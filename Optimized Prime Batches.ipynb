{
 "cells": [
  {
   "cell_type": "code",
   "execution_count": 1,
   "id": "eea79f18",
   "metadata": {},
   "outputs": [],
   "source": [
    "import numpy as np\n",
    "\n",
    "def primesfrom2to(n):\n",
    "    \"\"\" Input n>=6, Returns a array of primes, 2 <= p < n \"\"\"\n",
    "    sieve = np.ones(n//3 + (n % 6==2), dtype=bool)\n",
    "    for i in range(1,int(n**0.5)//3+1):\n",
    "        if sieve[i]:\n",
    "            k=3*i+1|1\n",
    "            sieve[       k*k//3     ::2*k] = False\n",
    "            sieve[k*(k-2*(i&1)+4)//3::2*k] = False\n",
    "    return np.r_[2,3,((3*np.nonzero(sieve)[0][1:]+1)|1)]"
   ]
  },
  {
   "cell_type": "code",
   "execution_count": null,
   "id": "01174727",
   "metadata": {},
   "outputs": [],
   "source": [
    "start_time = t.time()\n",
    "l = len(primesfrom2to(1449500000)) \n",
    "duration = t.time() - start_time\n",
    "print('len: {}, Local execution time: {}'.format(l, duration))\n",
    "# len: 72333789, Local execution time: 5.7807297706604"
   ]
  },
  {
   "cell_type": "code",
   "execution_count": null,
   "id": "8083aa94",
   "metadata": {},
   "outputs": [],
   "source": [
    "def writing_primes():\n",
    "    I = int(1449500000/500000)\n",
    "    \n",
    "    start_time = t.time()\n",
    "    for i in range(I): \n",
    "        sf = f'C:/Users/Joe/Documents/batch_primes/PrimesTo_{(i+1)*500000}.txt'\n",
    "        f = open(sf,'a')\n",
    "        for j in p[np.where(np.logical_and(p>=0+i*500000, p<=i*500000 + 500000))[0]]:\n",
    "            f.write(f'{j}')\n",
    "            f.write('\\n')\n",
    "        f.close()\n",
    "    duration = t.time() - start_time\n",
    "    print('Local execution time: {}'.format(duration))"
   ]
  },
  {
   "cell_type": "code",
   "execution_count": null,
   "id": "ca25e3f5",
   "metadata": {},
   "outputs": [],
   "source": [
    "writing_primes()"
   ]
  }
 ],
 "metadata": {
  "kernelspec": {
   "display_name": "Python 3 (ipykernel)",
   "language": "python",
   "name": "python3"
  },
  "language_info": {
   "codemirror_mode": {
    "name": "ipython",
    "version": 3
   },
   "file_extension": ".py",
   "mimetype": "text/x-python",
   "name": "python",
   "nbconvert_exporter": "python",
   "pygments_lexer": "ipython3",
   "version": "3.10.7"
  }
 },
 "nbformat": 4,
 "nbformat_minor": 5
}
